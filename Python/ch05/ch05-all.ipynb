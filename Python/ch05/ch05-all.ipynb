{
 "cells": [
  {
   "cell_type": "code",
   "execution_count": 2,
   "metadata": {},
   "outputs": [
    {
     "name": "stdout",
     "output_type": "stream",
     "text": [
      "{'이름': '홍길동', '나이': 30, '직업': '개발자'}\n",
      "이름: 홍길동, 나이: 30, 직업: 개발자\n",
      "업데이트된 나이: 31\n"
     ]
    }
   ],
   "source": [
    "# 1. 빈 dictionary 생성\n",
    "my_dictionary = {}\n",
    "# 2. 항목 추가\n",
    "my_dictionary[\"이름\"] = \"홍길동\"\n",
    "my_dictionary[\"나이\"] = 30\n",
    "my_dictionary[\"직업\"] = \"개발자\"\n",
    "\n",
    "# 3. 딕셔너리 출력\n",
    "print(my_dictionary)\n",
    "\n",
    "# 4. 특정 항목 값 참조\n",
    "name=my_dictionary[\"이름\"]\n",
    "age=my_dictionary[\"나이\"]\n",
    "job=my_dictionary[\"직업\"]\n",
    "\n",
    "print(f\"이름: {name}, 나이: {age}, 직업: {job}\")\n",
    "\n",
    "# 5. 항목 수정\n",
    "my_dictionary[\"나이\"] = 31\n",
    "\n",
    "# 6. 수정된 값 출력\n",
    "print(f\"업데이트된 나이: {my_dictionary['나이']}\")"
   ]
  },
  {
   "cell_type": "code",
   "execution_count": 8,
   "metadata": {},
   "outputs": [
    {
     "data": {
      "text/plain": [
       "{'낮': '해', '밤': '별', '비': '눈'}"
      ]
     },
     "execution_count": 8,
     "metadata": {},
     "output_type": "execute_result"
    }
   ],
   "source": [
    "a = ('낮해', '밤별', '비눈')\n",
    "dict(a)\n",
    "# a = dict(('낮해땅')) # Error!"
   ]
  },
  {
   "cell_type": "code",
   "execution_count": 11,
   "metadata": {},
   "outputs": [
    {
     "data": {
      "text/plain": [
       "-3550055125485641917"
      ]
     },
     "execution_count": 11,
     "metadata": {},
     "output_type": "execute_result"
    }
   ],
   "source": [
    "hash((1,2)) # hashable\n",
    "# hash([1,2]) # unhashable"
   ]
  },
  {
   "cell_type": "markdown",
   "metadata": {},
   "source": [
    "- Hashable과 Immutable은 동의어라 생각해도 좋다\n",
    "- "
   ]
  },
  {
   "cell_type": "code",
   "execution_count": 12,
   "metadata": {},
   "outputs": [
    {
     "data": {
      "text/plain": [
       "{'milk': None, 'eggs': None}"
      ]
     },
     "execution_count": 12,
     "metadata": {},
     "output_type": "execute_result"
    }
   ],
   "source": [
    "foods = dict.fromkeys(['milk', 'eggs'])\n",
    "foods"
   ]
  },
  {
   "cell_type": "code",
   "execution_count": 15,
   "metadata": {},
   "outputs": [
    {
     "data": {
      "text/plain": [
       "{'milk': 10, 'eggs': 10}"
      ]
     },
     "execution_count": 15,
     "metadata": {},
     "output_type": "execute_result"
    }
   ],
   "source": [
    "foods = dict.fromkeys(['milk', 'eggs'], 10)\n",
    "foods"
   ]
  },
  {
   "cell_type": "code",
   "execution_count": 16,
   "metadata": {},
   "outputs": [
    {
     "data": {
      "text/plain": [
       "{'경기': '시흥', '전북': '전주'}"
      ]
     },
     "execution_count": 16,
     "metadata": {},
     "output_type": "execute_result"
    }
   ],
   "source": [
    "city = dict(경기=\"시흥\", 전북=\"전주\")\n",
    "city"
   ]
  },
  {
   "cell_type": "code",
   "execution_count": 17,
   "metadata": {},
   "outputs": [
    {
     "data": {
      "text/plain": [
       "dict_keys(['경기', '전북'])"
      ]
     },
     "execution_count": 17,
     "metadata": {},
     "output_type": "execute_result"
    }
   ],
   "source": [
    "city.keys()"
   ]
  },
  {
   "cell_type": "code",
   "execution_count": 18,
   "metadata": {},
   "outputs": [
    {
     "name": "stdout",
     "output_type": "stream",
     "text": [
      "경기\n",
      "전북\n"
     ]
    }
   ],
   "source": [
    "for key in city.keys():\n",
    "  print(key)"
   ]
  },
  {
   "cell_type": "code",
   "execution_count": 19,
   "metadata": {},
   "outputs": [
    {
     "name": "stdout",
     "output_type": "stream",
     "text": [
      "경기: 시흥\n",
      "전북: 전주\n"
     ]
    }
   ],
   "source": [
    "for key in city.keys():\n",
    "  print(f\"{key}: {city[key]}\")"
   ]
  },
  {
   "cell_type": "code",
   "execution_count": 22,
   "metadata": {},
   "outputs": [
    {
     "name": "stdout",
     "output_type": "stream",
     "text": [
      "{'영어': 80, '수학': 98, '화학': 65}\n",
      "화학\n",
      "수학\n",
      "98\n",
      "98\n"
     ]
    }
   ],
   "source": [
    "subj = dict(영어=80, 수학=98, 화학=65)\n",
    "print(subj)\n",
    "print(max(subj))\n",
    "print(max(subj, key=subj.get))\n",
    "print(subj[max(subj, key=subj.get)])\n",
    "print(subj.get(max(subj, key=subj.get)))"
   ]
  },
  {
   "cell_type": "code",
   "execution_count": 23,
   "metadata": {},
   "outputs": [
    {
     "data": {
      "text/plain": [
       "{2005, 'kotlin', 'python'}"
      ]
     },
     "execution_count": 23,
     "metadata": {},
     "output_type": "execute_result"
    }
   ],
   "source": [
    "a = set(['python', 'kotlin', 2005])"
   ]
  },
  {
   "cell_type": "code",
   "execution_count": 25,
   "metadata": {},
   "outputs": [
    {
     "data": {
      "text/plain": [
       "3"
      ]
     },
     "execution_count": 25,
     "metadata": {},
     "output_type": "execute_result"
    }
   ],
   "source": [
    "len(a)"
   ]
  },
  {
   "cell_type": "code",
   "execution_count": 28,
   "metadata": {},
   "outputs": [
    {
     "ename": "AttributeError",
     "evalue": "'tuple' object has no attribute 'discard'",
     "output_type": "error",
     "traceback": [
      "\u001b[31m---------------------------------------------------------------------------\u001b[39m",
      "\u001b[31mAttributeError\u001b[39m                            Traceback (most recent call last)",
      "\u001b[36mCell\u001b[39m\u001b[36m \u001b[39m\u001b[32mIn[28]\u001b[39m\u001b[32m, line 2\u001b[39m\n\u001b[32m      1\u001b[39m \u001b[38;5;66;03m# print(a.remove('java')) # Error!\u001b[39;00m\n\u001b[32m----> \u001b[39m\u001b[32m2\u001b[39m \u001b[43ma\u001b[49m\u001b[43m.\u001b[49m\u001b[43mdiscard\u001b[49m(\u001b[33m'\u001b[39m\u001b[33mjava\u001b[39m\u001b[33m'\u001b[39m)\n",
      "\u001b[31mAttributeError\u001b[39m: 'tuple' object has no attribute 'discard'"
     ]
    }
   ],
   "source": [
    "# print(a.remove('java')) # Error!\n",
    "a.discard('java')"
   ]
  },
  {
   "cell_type": "code",
   "execution_count": 29,
   "metadata": {},
   "outputs": [
    {
     "data": {
      "text/plain": [
       "True"
      ]
     },
     "execution_count": 29,
     "metadata": {},
     "output_type": "execute_result"
    }
   ],
   "source": [
    "A = {1,2,3}\n",
    "B = A\n",
    "A is B"
   ]
  },
  {
   "cell_type": "code",
   "execution_count": null,
   "metadata": {},
   "outputs": [],
   "source": [
    "B.copy(A)\n",
    "B is A"
   ]
  }
 ],
 "metadata": {
  "language_info": {
   "name": "python"
  }
 },
 "nbformat": 4,
 "nbformat_minor": 2
}
