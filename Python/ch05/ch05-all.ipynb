{
 "cells": [
  {
   "cell_type": "code",
   "execution_count": 2,
   "metadata": {},
   "outputs": [
    {
     "name": "stdout",
     "output_type": "stream",
     "text": [
      "{'이름': '홍길동', '나이': 30, '직업': '개발자'}\n",
      "이름: 홍길동, 나이: 30, 직업: 개발자\n",
      "업데이트된 나이: 31\n"
     ]
    }
   ],
   "source": [
    "# 1. 빈 dictionary 생성\n",
    "my_dictionary = {}\n",
    "# 2. 항목 추가\n",
    "my_dictionary[\"이름\"] = \"홍길동\"\n",
    "my_dictionary[\"나이\"] = 30\n",
    "my_dictionary[\"직업\"] = \"개발자\"\n",
    "\n",
    "# 3. 딕셔너리 출력\n",
    "print(my_dictionary)\n",
    "\n",
    "# 4. 특정 항목 값 참조\n",
    "name=my_dictionary[\"이름\"]\n",
    "age=my_dictionary[\"나이\"]\n",
    "job=my_dictionary[\"직업\"]\n",
    "\n",
    "print(f\"이름: {name}, 나이: {age}, 직업: {job}\")\n",
    "\n",
    "# 5. 항목 수정\n",
    "my_dictionary[\"나이\"] = 31\n",
    "\n",
    "# 6. 수정된 값 출력\n",
    "print(f\"업데이트된 나이: {my_dictionary['나이']}\")"
   ]
  },
  {
   "cell_type": "code",
   "execution_count": 8,
   "metadata": {},
   "outputs": [
    {
     "data": {
      "text/plain": [
       "{'낮': '해', '밤': '별', '비': '눈'}"
      ]
     },
     "execution_count": 8,
     "metadata": {},
     "output_type": "execute_result"
    }
   ],
   "source": [
    "a = ('낮해', '밤별', '비눈')\n",
    "dict(a)\n",
    "# a = dict(('낮해땅')) # Error!"
   ]
  },
  {
   "cell_type": "code",
   "execution_count": 11,
   "metadata": {},
   "outputs": [
    {
     "data": {
      "text/plain": [
       "-3550055125485641917"
      ]
     },
     "execution_count": 11,
     "metadata": {},
     "output_type": "execute_result"
    }
   ],
   "source": [
    "hash((1,2)) # hashable\n",
    "# hash([1,2]) # unhashable"
   ]
  },
  {
   "cell_type": "markdown",
   "metadata": {},
   "source": [
    "- Hashable과 Immutable은 동의어라 생각해도 좋다\n",
    "- "
   ]
  },
  {
   "cell_type": "code",
   "execution_count": 12,
   "metadata": {},
   "outputs": [
    {
     "data": {
      "text/plain": [
       "{'milk': None, 'eggs': None}"
      ]
     },
     "execution_count": 12,
     "metadata": {},
     "output_type": "execute_result"
    }
   ],
   "source": [
    "foods = dict.fromkeys(['milk', 'eggs'])\n",
    "foods"
   ]
  },
  {
   "cell_type": "code",
   "execution_count": 15,
   "metadata": {},
   "outputs": [
    {
     "data": {
      "text/plain": [
       "{'milk': 10, 'eggs': 10}"
      ]
     },
     "execution_count": 15,
     "metadata": {},
     "output_type": "execute_result"
    }
   ],
   "source": [
    "foods = dict.fromkeys(['milk', 'eggs'], 10)\n",
    "foods"
   ]
  },
  {
   "cell_type": "code",
   "execution_count": 16,
   "metadata": {},
   "outputs": [
    {
     "data": {
      "text/plain": [
       "{'경기': '시흥', '전북': '전주'}"
      ]
     },
     "execution_count": 16,
     "metadata": {},
     "output_type": "execute_result"
    }
   ],
   "source": [
    "city = dict(경기=\"시흥\", 전북=\"전주\")\n",
    "city"
   ]
  },
  {
   "cell_type": "code",
   "execution_count": 17,
   "metadata": {},
   "outputs": [
    {
     "data": {
      "text/plain": [
       "dict_keys(['경기', '전북'])"
      ]
     },
     "execution_count": 17,
     "metadata": {},
     "output_type": "execute_result"
    }
   ],
   "source": [
    "city.keys()"
   ]
  },
  {
   "cell_type": "code",
   "execution_count": 18,
   "metadata": {},
   "outputs": [
    {
     "name": "stdout",
     "output_type": "stream",
     "text": [
      "경기\n",
      "전북\n"
     ]
    }
   ],
   "source": [
    "for key in city.keys():\n",
    "  print(key)"
   ]
  },
  {
   "cell_type": "code",
   "execution_count": 19,
   "metadata": {},
   "outputs": [
    {
     "name": "stdout",
     "output_type": "stream",
     "text": [
      "경기: 시흥\n",
      "전북: 전주\n"
     ]
    }
   ],
   "source": [
    "for key in city.keys():\n",
    "  print(f\"{key}: {city[key]}\")"
   ]
  },
  {
   "cell_type": "code",
   "execution_count": 22,
   "metadata": {},
   "outputs": [
    {
     "name": "stdout",
     "output_type": "stream",
     "text": [
      "{'영어': 80, '수학': 98, '화학': 65}\n",
      "화학\n",
      "수학\n",
      "98\n",
      "98\n"
     ]
    }
   ],
   "source": [
    "subj = dict(영어=80, 수학=98, 화학=65)\n",
    "print(subj)\n",
    "print(max(subj))\n",
    "print(max(subj, key=subj.get))\n",
    "print(subj[max(subj, key=subj.get)])\n",
    "print(subj.get(max(subj, key=subj.get)))"
   ]
  },
  {
   "cell_type": "code",
   "execution_count": 23,
   "metadata": {},
   "outputs": [
    {
     "data": {
      "text/plain": [
       "{2005, 'kotlin', 'python'}"
      ]
     },
     "execution_count": 23,
     "metadata": {},
     "output_type": "execute_result"
    }
   ],
   "source": [
    "a = set(['python', 'kotlin', 2005])"
   ]
  },
  {
   "cell_type": "code",
   "execution_count": 25,
   "metadata": {},
   "outputs": [
    {
     "data": {
      "text/plain": [
       "3"
      ]
     },
     "execution_count": 25,
     "metadata": {},
     "output_type": "execute_result"
    }
   ],
   "source": [
    "len(a)"
   ]
  },
  {
   "cell_type": "code",
   "execution_count": 28,
   "metadata": {},
   "outputs": [
    {
     "ename": "AttributeError",
     "evalue": "'tuple' object has no attribute 'discard'",
     "output_type": "error",
     "traceback": [
      "\u001b[31m---------------------------------------------------------------------------\u001b[39m",
      "\u001b[31mAttributeError\u001b[39m                            Traceback (most recent call last)",
      "\u001b[36mCell\u001b[39m\u001b[36m \u001b[39m\u001b[32mIn[28]\u001b[39m\u001b[32m, line 2\u001b[39m\n\u001b[32m      1\u001b[39m \u001b[38;5;66;03m# print(a.remove('java')) # Error!\u001b[39;00m\n\u001b[32m----> \u001b[39m\u001b[32m2\u001b[39m \u001b[43ma\u001b[49m\u001b[43m.\u001b[49m\u001b[43mdiscard\u001b[49m(\u001b[33m'\u001b[39m\u001b[33mjava\u001b[39m\u001b[33m'\u001b[39m)\n",
      "\u001b[31mAttributeError\u001b[39m: 'tuple' object has no attribute 'discard'"
     ]
    }
   ],
   "source": [
    "# print(a.remove('java')) # Error!\n",
    "a.discard('java')"
   ]
  },
  {
   "cell_type": "code",
   "execution_count": 29,
   "metadata": {},
   "outputs": [
    {
     "data": {
      "text/plain": [
       "True"
      ]
     },
     "execution_count": 29,
     "metadata": {},
     "output_type": "execute_result"
    }
   ],
   "source": [
    "A = {1,2,3}\n",
    "B = A\n",
    "A is B"
   ]
  },
  {
   "cell_type": "code",
   "execution_count": 30,
   "metadata": {},
   "outputs": [
    {
     "ename": "TypeError",
     "evalue": "set.copy() takes no arguments (1 given)",
     "output_type": "error",
     "traceback": [
      "\u001b[31m---------------------------------------------------------------------------\u001b[39m",
      "\u001b[31mTypeError\u001b[39m                                 Traceback (most recent call last)",
      "\u001b[36mCell\u001b[39m\u001b[36m \u001b[39m\u001b[32mIn[30]\u001b[39m\u001b[32m, line 1\u001b[39m\n\u001b[32m----> \u001b[39m\u001b[32m1\u001b[39m \u001b[43mB\u001b[49m\u001b[43m.\u001b[49m\u001b[43mcopy\u001b[49m\u001b[43m(\u001b[49m\u001b[43mA\u001b[49m\u001b[43m)\u001b[49m\n\u001b[32m      2\u001b[39m B \u001b[38;5;129;01mis\u001b[39;00m A\n",
      "\u001b[31mTypeError\u001b[39m: set.copy() takes no arguments (1 given)"
     ]
    }
   ],
   "source": [
    "B.copy(A)\n",
    "B is A"
   ]
  },
  {
   "cell_type": "code",
   "execution_count": 1,
   "metadata": {},
   "outputs": [],
   "source": [
    "a = ['FTP', 'talent', 'SMIP', 'DNS']\n",
    "b = [20,23,25,53]"
   ]
  },
  {
   "cell_type": "code",
   "execution_count": 4,
   "metadata": {},
   "outputs": [
    {
     "name": "stdout",
     "output_type": "stream",
     "text": [
      "<zip object at 0x107a56f80>\n"
     ]
    }
   ],
   "source": [
    "c = zip(a,b)\n",
    "print(c)"
   ]
  },
  {
   "cell_type": "code",
   "execution_count": 5,
   "metadata": {},
   "outputs": [
    {
     "name": "stdout",
     "output_type": "stream",
     "text": [
      "FTP 20\n",
      "talent 23\n",
      "SMIP 25\n",
      "DNS 53\n"
     ]
    }
   ],
   "source": [
    "for i in zip(a,b):\n",
    "  print(i[0],i[1])"
   ]
  },
  {
   "cell_type": "code",
   "execution_count": 7,
   "metadata": {},
   "outputs": [
    {
     "name": "stdout",
     "output_type": "stream",
     "text": [
      "서비스: FTP ---> 포트: 20\n",
      "서비스: talent ---> 포트: 23\n",
      "서비스: SMIP ---> 포트: 25\n",
      "서비스: DNS ---> 포트: 53\n"
     ]
    }
   ],
   "source": [
    "for i in zip(a,b):\n",
    "  print(f\"서비스: {i[0]} ---> 포트: {i[1]}\")"
   ]
  },
  {
   "cell_type": "code",
   "execution_count": 8,
   "metadata": {},
   "outputs": [
    {
     "data": {
      "text/plain": [
       "[('FTP', 20), ('talent', 23), ('SMIP', 25), ('DNS', 53)]"
      ]
     },
     "execution_count": 8,
     "metadata": {},
     "output_type": "execute_result"
    }
   ],
   "source": [
    "list(zip(a,b))"
   ]
  },
  {
   "cell_type": "code",
   "execution_count": 9,
   "metadata": {},
   "outputs": [
    {
     "data": {
      "text/plain": [
       "[('a', 'X'), ('b', 'Y')]"
      ]
     },
     "execution_count": 9,
     "metadata": {},
     "output_type": "execute_result"
    }
   ],
   "source": [
    "list(zip('abcd', 'XY'))"
   ]
  },
  {
   "cell_type": "code",
   "execution_count": 10,
   "metadata": {},
   "outputs": [
    {
     "ename": "ValueError",
     "evalue": "zip() argument 2 is shorter than argument 1",
     "output_type": "error",
     "traceback": [
      "\u001b[31m---------------------------------------------------------------------------\u001b[39m",
      "\u001b[31mValueError\u001b[39m                                Traceback (most recent call last)",
      "\u001b[36mCell\u001b[39m\u001b[36m \u001b[39m\u001b[32mIn[10]\u001b[39m\u001b[32m, line 1\u001b[39m\n\u001b[32m----> \u001b[39m\u001b[32m1\u001b[39m \u001b[38;5;28;43mlist\u001b[39;49m\u001b[43m(\u001b[49m\u001b[38;5;28;43mzip\u001b[39;49m\u001b[43m(\u001b[49m\u001b[33;43m'\u001b[39;49m\u001b[33;43mabcd\u001b[39;49m\u001b[33;43m'\u001b[39;49m\u001b[43m,\u001b[49m\u001b[43m \u001b[49m\u001b[33;43m'\u001b[39;49m\u001b[33;43mXY\u001b[39;49m\u001b[33;43m'\u001b[39;49m\u001b[43m,\u001b[49m\u001b[43m \u001b[49m\u001b[43mstrict\u001b[49m\u001b[43m=\u001b[49m\u001b[38;5;28;43;01mTrue\u001b[39;49;00m\u001b[43m)\u001b[49m\u001b[43m)\u001b[49m\n",
      "\u001b[31mValueError\u001b[39m: zip() argument 2 is shorter than argument 1"
     ]
    }
   ],
   "source": [
    "list(zip('abcd', 'XY', strict=True))"
   ]
  },
  {
   "cell_type": "code",
   "execution_count": 11,
   "metadata": {},
   "outputs": [
    {
     "data": {
      "text/plain": [
       "[('name', '홍'), ('age', '25'), ('job', 'Dev')]"
      ]
     },
     "execution_count": 11,
     "metadata": {},
     "output_type": "execute_result"
    }
   ],
   "source": [
    "f = ['name', 'age', 'job']\n",
    "v = ['홍', '25', 'Dev']\n",
    "list(zip(f,v))"
   ]
  },
  {
   "cell_type": "code",
   "execution_count": 12,
   "metadata": {},
   "outputs": [
    {
     "data": {
      "text/plain": [
       "{'name': '홍', 'age': '25', 'job': 'Dev'}"
      ]
     },
     "execution_count": 12,
     "metadata": {},
     "output_type": "execute_result"
    }
   ],
   "source": [
    "dict(zip(f,v))"
   ]
  },
  {
   "cell_type": "code",
   "execution_count": 13,
   "metadata": {},
   "outputs": [],
   "source": [
    "pl = ['python', 'C', 'java']\n"
   ]
  },
  {
   "cell_type": "code",
   "execution_count": 14,
   "metadata": {},
   "outputs": [
    {
     "name": "stdout",
     "output_type": "stream",
     "text": [
      "python\n",
      "C\n",
      "java\n"
     ]
    }
   ],
   "source": [
    "for i in pl:\n",
    "  print(i)"
   ]
  },
  {
   "cell_type": "code",
   "execution_count": 15,
   "metadata": {},
   "outputs": [
    {
     "data": {
      "text/plain": [
       "<enumerate at 0x107a1bfb0>"
      ]
     },
     "execution_count": 15,
     "metadata": {},
     "output_type": "execute_result"
    }
   ],
   "source": [
    "enumerate(pl)"
   ]
  },
  {
   "cell_type": "code",
   "execution_count": 16,
   "metadata": {},
   "outputs": [
    {
     "data": {
      "text/plain": [
       "[(0, 'python'), (1, 'C'), (2, 'java')]"
      ]
     },
     "execution_count": 16,
     "metadata": {},
     "output_type": "execute_result"
    }
   ],
   "source": [
    "list(enumerate(pl))"
   ]
  },
  {
   "cell_type": "code",
   "execution_count": 17,
   "metadata": {},
   "outputs": [
    {
     "data": {
      "text/plain": [
       "{0: 'python', 1: 'C', 2: 'java'}"
      ]
     },
     "execution_count": 17,
     "metadata": {},
     "output_type": "execute_result"
    }
   ],
   "source": [
    "dict(enumerate(pl))"
   ]
  },
  {
   "cell_type": "code",
   "execution_count": 18,
   "metadata": {},
   "outputs": [
    {
     "name": "stdout",
     "output_type": "stream",
     "text": [
      "(0, 'python')\n",
      "(1, 'C')\n",
      "(2, 'java')\n"
     ]
    }
   ],
   "source": [
    "for item in enumerate(pl):\n",
    "  print(item)"
   ]
  },
  {
   "cell_type": "code",
   "execution_count": 23,
   "metadata": {},
   "outputs": [
    {
     "name": "stdout",
     "output_type": "stream",
     "text": [
      "(5, 'python')\n",
      "(6, 'C')\n",
      "(7, 'java')\n"
     ]
    }
   ],
   "source": [
    "for item in enumerate(pl, start=5):\n",
    "  print(item)"
   ]
  },
  {
   "cell_type": "code",
   "execution_count": 24,
   "metadata": {},
   "outputs": [
    {
     "name": "stdout",
     "output_type": "stream",
     "text": [
      "5 python\n",
      "6 C\n",
      "7 java\n"
     ]
    }
   ],
   "source": [
    "for item in enumerate(pl, start=5):\n",
    "  print(f'{item[0]} {item[1]}')"
   ]
  },
  {
   "cell_type": "code",
   "execution_count": 25,
   "metadata": {},
   "outputs": [
    {
     "data": {
      "text/plain": [
       "['Spring', 'Summer', 'Authmn', 'Winter']"
      ]
     },
     "execution_count": 25,
     "metadata": {},
     "output_type": "execute_result"
    }
   ],
   "source": [
    "seasons = ['Spring', 'Summer', 'Authmn', 'Winter' ]\n",
    "seasons"
   ]
  },
  {
   "cell_type": "code",
   "execution_count": 26,
   "metadata": {},
   "outputs": [
    {
     "name": "stdout",
     "output_type": "stream",
     "text": [
      "(0, 'Spring')\n",
      "(1, 'Summer')\n",
      "(2, 'Authmn')\n",
      "(3, 'Winter')\n"
     ]
    }
   ],
   "source": [
    "for s in enumerate(seasons):\n",
    "  print(s)"
   ]
  },
  {
   "cell_type": "code",
   "execution_count": 28,
   "metadata": {},
   "outputs": [
    {
     "name": "stdout",
     "output_type": "stream",
     "text": [
      "Spring\n",
      "Summer\n",
      "Authmn\n",
      "Winter\n"
     ]
    }
   ],
   "source": [
    "for s in dict(enumerate(seasons)).values():\n",
    "  print(s)"
   ]
  },
  {
   "cell_type": "code",
   "execution_count": 29,
   "metadata": {},
   "outputs": [
    {
     "name": "stdout",
     "output_type": "stream",
     "text": [
      "0\n",
      "1\n",
      "2\n",
      "3\n"
     ]
    }
   ],
   "source": [
    "for s in dict(enumerate(seasons)).keys():\n",
    "  print(s)"
   ]
  },
  {
   "cell_type": "code",
   "execution_count": 32,
   "metadata": {},
   "outputs": [
    {
     "name": "stdout",
     "output_type": "stream",
     "text": [
      "Spring 1\n",
      "Summer 2\n",
      "Authmn 3\n",
      "Winter 4\n"
     ]
    }
   ],
   "source": [
    "for s in enumerate(seasons, start= 1):\n",
    "  print(\"{1} {0}\".format(*s))"
   ]
  },
  {
   "cell_type": "markdown",
   "metadata": {},
   "source": [
    "# 05장 종료"
   ]
  }
 ],
 "metadata": {
  "language_info": {
   "name": "python"
  }
 },
 "nbformat": 4,
 "nbformat_minor": 2
}
