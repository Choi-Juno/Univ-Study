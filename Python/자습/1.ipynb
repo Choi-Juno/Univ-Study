{
 "cells": [
  {
   "cell_type": "code",
   "execution_count": 1,
   "metadata": {},
   "outputs": [
    {
     "name": "stdout",
     "output_type": "stream",
     "text": [
      "2000\n"
     ]
    }
   ],
   "source": [
    "# 0부터 양수의 무한한 짝수를 생성하는 제너레이터 함수\n",
    "def all_even():\n",
    "    n = 0\n",
    "    while True:\n",
    "        yield n\n",
    "        n += 2\n",
    "\n",
    "# 제너레이터 선언\n",
    "evens = all_even()\n",
    "# 천 번 호출\n",
    "for _ in range(1000):\n",
    "    next(evens)\n",
    "\n",
    "# 다음 짝수 출력\n",
    "print(next(evens))"
   ]
  },
  {
   "cell_type": "code",
   "execution_count": 2,
   "metadata": {},
   "outputs": [
    {
     "name": "stdout",
     "output_type": "stream",
     "text": [
      "i =  20\n",
      "\t전역 변수 i 읽기, i + 1:  21\n",
      "i =  20\n"
     ]
    }
   ],
   "source": [
    "def addone():\n",
    "    '''대입이 없는 변수가 참조되면 전역 변수로 인식'''\n",
    "    print(\"\\t전역 변수 i 읽기, i + 1: \", i + 1)    \n",
    "\n",
    "i = 20\n",
    "print('i = ', i)\n",
    "addone()\n",
    "print('i = ', i)"
   ]
  },
  {
   "cell_type": "code",
   "execution_count": 6,
   "metadata": {},
   "outputs": [
    {
     "name": "stdout",
     "output_type": "stream",
     "text": [
      "i =  20\n",
      "\t함수 addone() 내부, 전역 변수 i 읽기:  21\n",
      "i =  21\n"
     ]
    }
   ],
   "source": [
    "def addone():\n",
    "    '''명시적으로 변수를 전역 변수로 지정'''\n",
    "    global i # i를 전역 변수로 인식\n",
    "\n",
    "    print(\"\\t함수 addone() 내부, 전역 변수 i 읽기: \", i + 1)    \n",
    "    i += 1\n",
    "\n",
    "\n",
    "i = 20\n",
    "print('i = ', i)\n",
    "addone()\n",
    "print('i = ', i)"
   ]
  }
 ],
 "metadata": {
  "language_info": {
   "name": "python"
  }
 },
 "nbformat": 4,
 "nbformat_minor": 2
}
