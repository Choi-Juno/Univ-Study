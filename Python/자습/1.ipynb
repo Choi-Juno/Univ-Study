{
 "cells": [
  {
   "cell_type": "code",
   "execution_count": 1,
   "metadata": {},
   "outputs": [
    {
     "name": "stdout",
     "output_type": "stream",
     "text": [
      "2000\n"
     ]
    }
   ],
   "source": [
    "# 0부터 양수의 무한한 짝수를 생성하는 제너레이터 함수\n",
    "def all_even():\n",
    "    n = 0\n",
    "    while True:\n",
    "        yield n\n",
    "        n += 2\n",
    "\n",
    "# 제너레이터 선언\n",
    "evens = all_even()\n",
    "# 천 번 호출\n",
    "for _ in range(1000):\n",
    "    next(evens)\n",
    "\n",
    "# 다음 짝수 출력\n",
    "print(next(evens))"
   ]
  },
  {
   "cell_type": "code",
   "execution_count": null,
   "metadata": {},
   "outputs": [],
   "source": []
  },
  {
   "cell_type": "code",
   "execution_count": 2,
   "metadata": {},
   "outputs": [
    {
     "name": "stdout",
     "output_type": "stream",
     "text": [
      "i =  20\n",
      "\t전역 변수 i 읽기, i + 1:  21\n",
      "i =  20\n"
     ]
    }
   ],
   "source": [
    "def addone():\n",
    "    '''대입이 없는 변수가 참조되면 전역 변수로 인식'''\n",
    "    print(\"\\t전역 변수 i 읽기, i + 1: \", i + 1)    \n",
    "\n",
    "i = 20\n",
    "print('i = ', i)\n",
    "addone()\n",
    "print('i = ', i)"
   ]
  },
  {
   "cell_type": "code",
   "execution_count": 6,
   "metadata": {},
   "outputs": [
    {
     "name": "stdout",
     "output_type": "stream",
     "text": [
      "i =  20\n",
      "\t함수 addone() 내부, 전역 변수 i 읽기:  21\n",
      "i =  21\n"
     ]
    }
   ],
   "source": [
    "def addone():\n",
    "    '''명시적으로 변수를 전역 변수로 지정'''\n",
    "    global i # i를 전역 변수로 인식\n",
    "\n",
    "    print(\"\\t함수 addone() 내부, 전역 변수 i 읽기: \", i + 1)    \n",
    "    i += 1\n",
    "\n",
    "\n",
    "i = 20\n",
    "print('i = ', i)\n",
    "addone()\n",
    "print('i = ', i)"
   ]
  },
  {
   "cell_type": "code",
   "execution_count": 1,
   "metadata": {},
   "outputs": [
    {
     "name": "stdout",
     "output_type": "stream",
     "text": [
      "7\n",
      "11\n"
     ]
    }
   ],
   "source": [
    "def argtest(*nums):\n",
    "    s = 1\n",
    "    for num in nums:\n",
    "        s += num\n",
    "    return s\n",
    "\n",
    "print(argtest(1,2,3))\n",
    "print(argtest(*[1,2,3,4]))"
   ]
  },
  {
   "cell_type": "code",
   "execution_count": 3,
   "metadata": {},
   "outputs": [
    {
     "name": "stdout",
     "output_type": "stream",
     "text": [
      "23\n",
      "16\n"
     ]
    }
   ],
   "source": [
    "def kwtest(**kwargs):\n",
    "    a = 1\n",
    "    for key in kwargs:\n",
    "        if key in ['java', 'python']:\n",
    "            a += kwargs[key]\n",
    "    return a\n",
    "\n",
    "print(kwtest(java=10, python=12, kotlin=36, c=8))\n",
    "print(kwtest(**{'java':10, 'C++':7, 'python': 5}))"
   ]
  },
  {
   "cell_type": "code",
   "execution_count": 9,
   "metadata": {},
   "outputs": [
    {
     "name": "stdout",
     "output_type": "stream",
     "text": [
      "(1, 2) (3, 4)\n"
     ]
    }
   ],
   "source": [
    "a, b = (zip(*zip([1,2],[3,4])))\n",
    "print(a, b)"
   ]
  },
  {
   "cell_type": "code",
   "execution_count": 10,
   "metadata": {},
   "outputs": [
    {
     "name": "stdout",
     "output_type": "stream",
     "text": [
      "2 5 3\n"
     ]
    }
   ],
   "source": [
    "def arg_func(a, /, b, *, c):\n",
    "    print(a, b, c)\n",
    "\n",
    "arg_func(2, c=3, b= 5)"
   ]
  },
  {
   "cell_type": "code",
   "execution_count": 12,
   "metadata": {},
   "outputs": [
    {
     "name": "stdout",
     "output_type": "stream",
     "text": [
      "연산 결과: 10 + 20 = 30\n"
     ]
    }
   ],
   "source": [
    "\n",
    "def add(a, b):\n",
    "    return a + b\n",
    "\n",
    "def subtract(a, b):\n",
    "    return a - b\n",
    "\n",
    "def multiply(a, b):\n",
    "    return a * b\n",
    "\n",
    "def divide(a, b):\n",
    "    return a / b\n",
    "\n",
    "operation = {'+': add, '-': subtract, '*': multiply, '/' : divide}\n",
    "\n",
    "operator = input(\"수행할 연산 기호(+, -, *, / 중 하나)를 입력 >> \")\n",
    "a, b = map(int, input(\"공백을 구분으로 두 수를 입력\").split())\n",
    "result = operation[operator](a,b)\n",
    "print(f'연산 결과: {a} {operator} {b} = {result}')"
   ]
  },
  {
   "cell_type": "code",
   "execution_count": 13,
   "metadata": {},
   "outputs": [
    {
     "name": "stdout",
     "output_type": "stream",
     "text": [
      "원행렬 출력: \n",
      "[1, 2, 3, 4]\n",
      "[5, 6, 7, 8]\n",
      "[9, 10, 11, 12]\n",
      "전치 행렬 출력\n",
      "[1, 5, 9]\n",
      "[2, 6, 10]\n",
      "[3, 7, 11]\n",
      "[4, 8, 12]\n"
     ]
    }
   ],
   "source": [
    "original_matrix = [[1,2,3,4],[5,6,7,8],[9,10,11,12]]\n",
    "\n",
    "def transpose_matrix(matrix):\n",
    "    return [list(row) for row in zip(*matrix)]\n",
    "\n",
    "print(\"원행렬 출력: \")\n",
    "for row in original_matrix:\n",
    "    print(row)\n",
    "\n",
    "print(\"전치 행렬 출력\")\n",
    "for row in transpose_matrix(original_matrix):\n",
    "    print(row)"
   ]
  },
  {
   "cell_type": "code",
   "execution_count": 15,
   "metadata": {},
   "outputs": [
    {
     "name": "stdout",
     "output_type": "stream",
     "text": [
      "10개의 피보나치 수열: [0, 1, 1, 2, 3, 5, 8, 13, 21, 34]\n"
     ]
    }
   ],
   "source": [
    "def fibonacci(n):\n",
    "    fiboList = [0] * n\n",
    "    fiboList[0] = 0\n",
    "    fiboList[1] = 1\n",
    "    for i in range(2, n):\n",
    "        fiboList[i] = fiboList[i-2] + fiboList[i-1]\n",
    "\n",
    "    return fiboList\n",
    "\n",
    "n = int(input(\"피보나치 수열(0, 1, ...) n개 출력, 2이상 정수 입력 >> \"))\n",
    "fiboList = fibonacci(n)\n",
    "\n",
    "print(f'{n}개의 피보나치 수열: {fiboList}')"
   ]
  },
  {
   "cell_type": "code",
   "execution_count": 21,
   "metadata": {},
   "outputs": [
    {
     "name": "stdout",
     "output_type": "stream",
     "text": [
      "태양계 행성의 크기(반지름)로 정렬\n",
      "[('태양', 695000, 0), ('목성', 71492, 5.2), ('지구', 6378, 1), ('금성', 6052, 0.7), ('화성', 3390, 1.5), ('수성', 2439, 0.4)]\n",
      "태양계 행성의 태양과의 거리로 정렬\n",
      "[('태양', 695000, 0), ('수성', 2439, 0.4), ('금성', 6052, 0.7), ('지구', 6378, 1), ('화성', 3390, 1.5), ('목성', 71492, 5.2)]\n"
     ]
    }
   ],
   "source": [
    "planets = [('수성', 2439, 0.4), ('금성', 6052, 0.7),('태양', 695000, 0), ('지구', 6378, 1), ('화성', 3390, 1.5), ('목성', 71492, 5.2)]\n",
    "\n",
    "print(\"태양계 행성의 크기(반지름)로 정렬\")\n",
    "planets.sort(key=lambda x: x[1], reverse=True)\n",
    "print(planets)\n",
    "\n",
    "print(\"태양계 행성의 태양과의 거리로 정렬\")\n",
    "planets.sort(key = lambda x: x[2])\n",
    "print(planets)"
   ]
  },
  {
   "cell_type": "code",
   "execution_count": 36,
   "metadata": {},
   "outputs": [
    {
     "name": "stdout",
     "output_type": "stream",
     "text": [
      "섭씨 온도: [50, 42, 48, 72, 18, 80, 39, 64, 83]\n",
      "화씨 온도: [122.0, 107.6, 118.4, 161.6, 64.4, 176.0, 102.2, 147.2, 181.4]\n",
      "섭씨 온도 50 => 화씨 온도 122.0\n",
      "섭씨 온도 42 => 화씨 온도 107.6\n",
      "섭씨 온도 48 => 화씨 온도 118.4\n",
      "섭씨 온도 72 => 화씨 온도 161.6\n",
      "섭씨 온도 18 => 화씨 온도 64.4\n",
      "섭씨 온도 80 => 화씨 온도 176.0\n",
      "섭씨 온도 39 => 화씨 온도 102.2\n",
      "섭씨 온도 64 => 화씨 온도 147.2\n",
      "섭씨 온도 83 => 화씨 온도 181.4\n"
     ]
    }
   ],
   "source": [
    "import random\n",
    "\n",
    "celcius = []\n",
    "\n",
    "for i in range(9):\n",
    "    celcius.append(random.randint(1,100))\n",
    "\n",
    "fahrenheit = list(map(lambda x: x * 9 / 5 + 32, celcius))\n",
    "\n",
    "print(f'섭씨 온도: {celcius}')\n",
    "print(f'화씨 온도: {fahrenheit}')\n",
    "\n",
    "celToFah = zip(celcius, fahrenheit)\n",
    "\n",
    "for i in range(9):\n",
    "    print(f'섭씨 온도 {celcius[i]:} => 화씨 온도 {fahrenheit[i]:.1f}')\n",
    "    "
   ]
  },
  {
   "cell_type": "code",
   "execution_count": 38,
   "metadata": {},
   "outputs": [
    {
     "name": "stdout",
     "output_type": "stream",
     "text": [
      "함수 double(10) 호출 결과: 20\n",
      "함수 triple(10) 호출 결과: 30\n"
     ]
    }
   ],
   "source": [
    "def make_multiplier(n):\n",
    "    def multiply(x):\n",
    "        return x * n\n",
    "\n",
    "    return multiply\n",
    "\n",
    "number = int(input(\"숫자를 입력하시오: \"))\n",
    "\n",
    "double = make_multiplier(2)\n",
    "triple = make_multiplier(3)\n",
    "\n",
    "print(f'함수 double(10) 호출 결과: {double(10)}')\n",
    "print(f'함수 triple(10) 호출 결과: {triple(10)}')\n"
   ]
  },
  {
   "cell_type": "code",
   "execution_count": 2,
   "metadata": {},
   "outputs": [
    {
     "data": {
      "text/plain": [
       "['/Users/junochoi/Documents/University/Python/자습',\n",
       " '/opt/homebrew/Cellar/python@3.13/3.13.3/Frameworks/Python.framework/Versions/3.13/lib/python313.zip',\n",
       " '/opt/homebrew/Cellar/python@3.13/3.13.3/Frameworks/Python.framework/Versions/3.13/lib/python3.13',\n",
       " '/opt/homebrew/Cellar/python@3.13/3.13.3/Frameworks/Python.framework/Versions/3.13/lib/python3.13/lib-dynload',\n",
       " '',\n",
       " '/Users/junochoi/Documents/University/.venv/lib/python3.13/site-packages',\n",
       " '/opt/homebrew/opt/python-tk@3.13/libexec']"
      ]
     },
     "execution_count": 2,
     "metadata": {},
     "output_type": "execute_result"
    }
   ],
   "source": [
    "import sys\n",
    "\n",
    "sys.path"
   ]
  },
  {
   "cell_type": "code",
   "execution_count": 3,
   "metadata": {},
   "outputs": [
    {
     "name": "stdout",
     "output_type": "stream",
     "text": [
      "요소 'p'의 개수: 5\n",
      "1등: n: 5\n",
      "2등: p: 5\n",
      "3등:  : 5\n",
      "4등: a: 5\n",
      "5등: g: 4\n"
     ]
    }
   ],
   "source": [
    "from collections import Counter\n",
    "\n",
    "s = \"numpy scipy python pandas programming language\"\n",
    "counter = Counter(s)\n",
    "\n",
    "count_p = counter['p']\n",
    "print(f\"요소 'p'의 개수: {count_p}\")\n",
    "\n",
    "for i, item in enumerate(counter.most_common(5)):\n",
    "    print(f\"{i+1}등: {item[0]}: {item[1]}\")\n"
   ]
  },
  {
   "cell_type": "code",
   "execution_count": 4,
   "metadata": {},
   "outputs": [
    {
     "ename": "",
     "evalue": "",
     "output_type": "error",
     "traceback": [
      "\u001b[1;31m현재 셀 또는 이전 셀에서 코드를 실행하는 동안 Kernel이 충돌했습니다. \n",
      "\u001b[1;31m셀의 코드를 검토하여 가능한 오류 원인을 식별하세요. \n",
      "\u001b[1;31m자세한 내용을 보려면 <a href='https://aka.ms/vscodeJupyterKernelCrash'>여기</a>를 클릭하세요. \n",
      "\u001b[1;31m자세한 내용은 Jupyter <a href='command:jupyter.viewOutput'>로그</a>를 참조하세요."
     ]
    }
   ],
   "source": [
    "import turtle as t\n",
    "t.shape('turtle')\n",
    "\n",
    "t.forward(100)\n",
    "t.left(120)\n",
    "t.forward(100)\n",
    "t.left(120)\n",
    "t.forward(100)\n",
    "t.left(120)\n",
    "\n",
    "t.pencolor('blue')\n",
    "for _ in range(4):\n",
    "    t.left(90)\n",
    "    t.forward(100)\n",
    "\n",
    "t.pencolor('green')\n",
    "t.goto(100, -100)\n",
    "t.goto(-100, -100)\n",
    "t.home()"
   ]
  },
  {
   "cell_type": "code",
   "execution_count": 1,
   "metadata": {},
   "outputs": [
    {
     "ename": "",
     "evalue": "",
     "output_type": "error",
     "traceback": [
      "\u001b[1;31m현재 셀 또는 이전 셀에서 코드를 실행하는 동안 Kernel이 충돌했습니다. \n",
      "\u001b[1;31m셀의 코드를 검토하여 가능한 오류 원인을 식별하세요. \n",
      "\u001b[1;31m자세한 내용을 보려면 <a href='https://aka.ms/vscodeJupyterKernelCrash'>여기</a>를 클릭하세요. \n",
      "\u001b[1;31m자세한 내용은 Jupyter <a href='command:jupyter.viewOutput'>로그</a>를 참조하세요."
     ]
    }
   ],
   "source": [
    "import turtle as t\n",
    "t.setup(500, 400)\n",
    "t.speed(1)\n",
    "\n",
    "t.pu()\n",
    "t.goto(0, -100)\n",
    "\n",
    "t.pd()\n",
    "t.hideturtle()\n",
    "t.fillcolor('aqua')\n",
    "t.begin_fill()\n",
    "t.circle(100)\n",
    "t.end_fill()\n",
    "\n",
    "exit()"
   ]
  },
  {
   "cell_type": "code",
   "execution_count": 4,
   "metadata": {},
   "outputs": [
    {
     "name": "stdout",
     "output_type": "stream",
     "text": [
      "[ 5  9 13 17 21]\n",
      "[1 3 5 7 9]\n",
      "[ 6 18 36 60 90]\n",
      "[1.5  2.   2.25 2.4  2.5 ]\n",
      "[np.int64(3), np.int64(6), np.int64(9), np.int64(12), np.int64(15), np.int64(2), np.int64(3), np.int64(4), np.int64(5), np.int64(6)]\n",
      "[np.int64(3), np.int64(6), np.int64(9), np.int64(12), np.int64(15), np.int64(3), np.int64(6), np.int64(9), np.int64(12), np.int64(15)]\n"
     ]
    }
   ],
   "source": [
    "import numpy as np\n",
    "\n",
    "aryA = np.array([3,6,9,12,15])\n",
    "aryB = np.array([2,3,4,5,6])\n",
    "\n",
    "print(aryA + aryB)\n",
    "print(aryA - aryB)\n",
    "print(aryA * aryB)\n",
    "print(aryA / aryB)\n",
    "\n",
    "lstA = list(aryA)\n",
    "lstB = list(aryB)\n",
    "\n",
    "print(lstA + lstB)\n",
    "print(lstA * 2)\n"
   ]
  },
  {
   "cell_type": "code",
   "execution_count": 3,
   "metadata": {},
   "outputs": [
    {
     "name": "stdout",
     "output_type": "stream",
     "text": [
      "각각의 2차원 행렬 출력: \n",
      "[[ 1  2  3  4  5]\n",
      " [ 7  8  9 10 11]]\n",
      "[[1 2 3 4 5]\n",
      " [1 2 3 4 5]]\n",
      "\n",
      "행렬 합 출력: \n",
      "[[ 2  4  6  8 10]\n",
      " [ 8 10 12 14 16]]\n",
      "행렬 차 출력: \n",
      "[[0 0 0 0 0]\n",
      " [6 6 6 6 6]]\n",
      "행렬 곱 출력: \n",
      "[[ 1  4  9 16 25]\n",
      " [ 7 16 27 40 55]]\n",
      "행렬 나누기 출력: \n",
      "[[1.  1.  1.  1.  1. ]\n",
      " [7.  4.  3.  2.5 2.2]]\n",
      "\n",
      "각각의 2차원 행렬 출력: \n",
      "[[1 2 3]\n",
      " [3 2 1]]\n",
      "[[1 2]\n",
      " [3 4]\n",
      " [5 6]]\n",
      "\n",
      "mA.dot(mB) 행렬 출력:\n",
      "[[22 28]\n",
      " [14 20]]\n",
      "np.matmul(mA, mB) 행렬 출력: \n",
      "[[22 28]\n",
      " [14 20]]\n"
     ]
    }
   ],
   "source": [
    "import numpy as np\n",
    "\n",
    "data1 = [[1,2,3,4,5], [7,8,9,10,11]]\n",
    "data2 = [[1,2,3,4,5], [1,2,3,4,5]]\n",
    "mA = np.array(data1)\n",
    "mB = np.array(data2)\n",
    "\n",
    "print(\"각각의 2차원 행렬 출력: \")\n",
    "print(mA); print(mB); print()\n",
    "print(\"행렬 합 출력: \")\n",
    "print(mA + mB)\n",
    "print(\"행렬 차 출력: \")\n",
    "print(mA - mB)\n",
    "print(\"행렬 곱 출력: \")\n",
    "print(mA * mB)\n",
    "print(\"행렬 나누기 출력: \")\n",
    "print(mA / mB)\n",
    "print()\n",
    "\n",
    "mA = np.array([[1,2,3],[3,2,1]])\n",
    "mB = np.array([[1,2],[3,4],[5,6]])\n",
    "\n",
    "print(\"각각의 2차원 행렬 출력: \")\n",
    "print(mA); print(mB); print()\n",
    "print(\"mA.dot(mB) 행렬 출력:\")\n",
    "print(mA.dot(mB))\n",
    "print(\"np.matmul(mA, mB) 행렬 출력: \")\n",
    "print(np.matmul(mA, mB))"
   ]
  },
  {
   "cell_type": "code",
   "execution_count": 4,
   "metadata": {},
   "outputs": [
    {
     "data": {
      "image/png": "[encoded data removed]",
      "text/plain": [
       "<Figure size 640x480 with 1 Axes>"
      ]
     },
     "metadata": {},
     "output_type": "display_data"
    }
   ],
   "source": [
    "import matplotlib.pyplot as plt\n",
    "\n",
    "plt.plot([2,4,6,8], [8,10,3,6])\n",
    "plt.show()"
   ]
  },
  {
   "cell_type": "code",
   "execution_count": 5,
   "metadata": {},
   "outputs": [
    {
     "data": {
      "image/png": "[encoded data removed]",
      "text/plain": [
       "<Figure size 640x480 with 1 Axes>"
      ]
     },
     "metadata": {},
     "output_type": "display_data"
    }
   ],
   "source": [
    "import matplotlib.pyplot as plt\n",
    "\n",
    "objects = ('Python', 'Java', 'C++', 'C#', 'C', 'Kotlin')\n",
    "performance = [10,8,6,4,7,2]\n",
    "\n",
    "plt.barh(objects, performance, height=0.5, color='yellow')\n",
    "\n",
    "plt.title('Programming language usage')\n",
    "plt.xlabel('Usage')\n",
    "plt.ylabel('Programming language')\n",
    "\n",
    "plt.show()"
   ]
  },
  {
   "cell_type": "code",
   "execution_count": 2,
   "metadata": {},
   "outputs": [
    {
     "data": {
      "image/png": "[encoded data removed]",
      "text/plain": [
       "<Figure size 500x270 with 1 Axes>"
      ]
     },
     "metadata": {},
     "output_type": "display_data"
    }
   ],
   "source": [
    "import numpy as np\n",
    "import matplotlib.pyplot as plt\n",
    "\n",
    "data1 = np.random.randn(100).cumsum() # 누적값\n",
    "data2 = np.random.randn(100)\n",
    "\n",
    "plt.figure(figsize=(5, 2.7))\n",
    "plt.plot(data1 + 40, color = 'blue', linewidth=3, linestyle=\":\")\n",
    "plt.plot(np.cumsum(data2), \"m:\", linewidth=2)\n",
    "plt.scatter(data1*10, data2*10, c='cyan')\n",
    "\n",
    "plt.show()"
   ]
  },
  {
   "cell_type": "code",
   "execution_count": 5,
   "metadata": {},
   "outputs": [
    {
     "name": "stdout",
     "output_type": "stream",
     "text": [
      "[6, 1, 1, 5, 1, 1, 3, 3]\n"
     ]
    }
   ],
   "source": [
    "import random\n",
    "\n",
    "dice = int(input(\"주사위의 면 수를 입력하시오: \"))\n",
    "times = int(input(\"던질 횟수를 입력하시오: \"))\n",
    "\n",
    "result = []\n",
    "for i in range(times):\n",
    "    result.append(random.choice(range(1, dice+1)))\n",
    "\n",
    "print(result)\n"
   ]
  },
  {
   "cell_type": "code",
   "execution_count": 7,
   "metadata": {},
   "outputs": [
    {
     "name": "stdout",
     "output_type": "stream",
     "text": [
      "생성된 난수 데이터:  [193.31085323720697, 112.53680896840025, 155.85728022679098, 193.92635946842952, 154.8418968005272, 152.881086246562, 82.2659655724199, 154.35070280711992, 91.44215867844014, 163.01643136437013]\n",
      "평균: 145.44\n",
      "중앙값: 154.60\n",
      "표준편차: 38.40\n"
     ]
    }
   ],
   "source": [
    "import random\n",
    "import statistics\n",
    "\n",
    "size = int(input(\"난수 데이터 크기를 입력하시오: \"))\n",
    "min = int(input(\"난수의 최솟값을 입력하시오: \"))\n",
    "max = int(input(\"난수의 최댓값을 입력하시오: \"))\n",
    "\n",
    "data = [random.uniform(min, max) for _ in range(size)]\n",
    "\n",
    "print(\"생성된 난수 데이터: \", data)\n",
    "print(f\"평균: {statistics.mean(data):.2f}\")\n",
    "print(f\"중앙값: {statistics.median(data):.2f}\")\n",
    "print(f\"표준편차: {statistics.stdev(data):.2f}\")\n"
   ]
  },
  {
   "cell_type": "code",
   "execution_count": 8,
   "metadata": {},
   "outputs": [
    {
     "ename": "",
     "evalue": "",
     "output_type": "error",
     "traceback": [
      "\u001b[1;31m현재 셀 또는 이전 셀에서 코드를 실행하는 동안 Kernel이 충돌했습니다. \n",
      "\u001b[1;31m셀의 코드를 검토하여 가능한 오류 원인을 식별하세요. \n",
      "\u001b[1;31m자세한 내용을 보려면 <a href='https://aka.ms/vscodeJupyterKernelCrash'>여기</a>를 클릭하세요. \n",
      "\u001b[1;31m자세한 내용은 Jupyter <a href='command:jupyter.viewOutput'>로그</a>를 참조하세요."
     ]
    }
   ],
   "source": [
    "import turtle as t\n",
    "\n",
    "color = ['yellow', 'red', 'blue']\n",
    "\n",
    "t.shape('classic')\n",
    "t.bgcolor('black')\n",
    "t.setup(500,500)\n",
    "\n",
    "for i in range(200):\n",
    "    t.pencolor(color[i%3])\n",
    "    t.pensize(i/200+1)\n",
    "    t.forward(i*2)\n",
    "    t.left(119)\n",
    "\n",
    "\n"
   ]
  },
  {
   "cell_type": "code",
   "execution_count": 6,
   "metadata": {},
   "outputs": [
    {
     "name": "stdout",
     "output_type": "stream",
     "text": [
      "가장 빈번하게 등장하는 단어 Top 10:\n",
      "the: 5\n",
      "python: 2\n",
      "of: 2\n",
      "language: 2\n",
      "changes: 2\n",
      "and: 2\n",
      "library: 2\n",
      "312: 1\n",
      "is: 1\n",
      "latest: 1\n"
     ]
    }
   ],
   "source": [
    "from collections import Counter\n",
    "\n",
    "sample_text='''Python 3.12 is the latest stable release of the Python programming language, with a mix of changes to the language and the standard library. The library changes focus on cleaning up deprecated APIs, usability, and correctness.'''\n",
    "sample_text = sample_text.lower().replace(\".\", \"\").replace(\",\", \"\")\n",
    "\n",
    "word_counts = Counter(sample_text.rsplit())\n",
    "\n",
    "freq_words = word_counts.most_common(10)\n",
    "\n",
    "print(\"가장 빈번하게 등장하는 단어 Top 10:\")\n",
    "for word, freq in freq_words:\n",
    "    print(f'{word}: {freq}')\n"
   ]
  },
  {
   "cell_type": "code",
   "execution_count": 8,
   "metadata": {},
   "outputs": [
    {
     "data": {
      "image/png": "[encoded data removed]",
      "text/plain": [
       "<Figure size 640x480 with 1 Axes>"
      ]
     },
     "metadata": {},
     "output_type": "display_data"
    }
   ],
   "source": [
    "import matplotlib.pyplot as plt\n",
    "import numpy as np\n",
    "\n",
    "x = np.linspace(-np.pi * 2, np.pi * 2, 720)\n",
    "cos, sin = np.cos(x), np.sin(x)\n",
    "\n",
    "plt.plot(x, sin, ls=\":\", label='sin')\n",
    "plt.plot(x, cos, ls=\"--\", label='cos')\n",
    "\n",
    "plt.title(\"Graph of sin cos\")\n",
    "plt.xlabel(\"radian\")\n",
    "plt.ylabel(\"value\")\n",
    "plt.grid()\n",
    "plt.legend()\n",
    "plt.show()"
   ]
  }
 ],
 "metadata": {
  "language_info": {
   "name": "python"
  }
 },
 "nbformat": 4,
 "nbformat_minor": 2
}
