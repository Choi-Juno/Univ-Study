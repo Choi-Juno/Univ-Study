{
 "cells": [
  {
   "cell_type": "markdown",
   "metadata": {},
   "source": [
    "## 전역변수와 지역변수\n"
   ]
  },
  {
   "cell_type": "code",
   "execution_count": null,
   "metadata": {},
   "outputs": [],
   "source": [
    "def double(x):\n",
    "    a = 2\n",
    "    print(locals())\n",
    "    return x*a"
   ]
  },
  {
   "cell_type": "code",
   "execution_count": null,
   "metadata": {},
   "outputs": [
    {
     "name": "stdout",
     "output_type": "stream",
     "text": [
      "{'x': 10, 'a': 2}\n"
     ]
    },
    {
     "data": {
      "text/plain": [
       "20"
      ]
     },
     "metadata": {},
     "output_type": "display_data"
    }
   ],
   "source": [
    "b = 10\n",
    "double(b)"
   ]
  },
  {
   "cell_type": "markdown",
   "metadata": {},
   "source": [
    "- locals() 함수\\\n",
    "   : 현재 스코프의 지역 변수 정보를 확인할 수 있음\n",
    "- globals() 함수\\\n",
    "   : 전역 변수 정보를 확인할 수 있음."
   ]
  },
  {
   "cell_type": "code",
   "execution_count": 6,
   "metadata": {},
   "outputs": [],
   "source": [
    "def addOne():\n",
    "    i = 30 # lcoal variable\n",
    "    i+=1\n",
    "    print(f\"\\t 함수 내부 i :{i}\")"
   ]
  },
  {
   "cell_type": "code",
   "execution_count": 7,
   "metadata": {},
   "outputs": [
    {
     "name": "stdout",
     "output_type": "stream",
     "text": [
      "\t 함수 내부 i :31\n"
     ]
    }
   ],
   "source": [
    "addOne()"
   ]
  },
  {
   "cell_type": "code",
   "execution_count": 8,
   "metadata": {},
   "outputs": [
    {
     "name": "stdout",
     "output_type": "stream",
     "text": [
      "g var i : 20\n",
      "\t 함수 내부 i :31\n",
      "g var i : 20\n"
     ]
    }
   ],
   "source": [
    "i = 20 # global variable\n",
    "print(f'g var i : {i}')\n",
    "addOne()\n",
    "print(f'g var i : {i}')"
   ]
  },
  {
   "cell_type": "code",
   "execution_count": 9,
   "metadata": {},
   "outputs": [],
   "source": [
    "def addOne():\n",
    "    global i # 명시적으로 전역 변수임을 알림\n",
    "    print(f'\\t in Function, global variable: {i}')\n",
    "    i += 1\n"
   ]
  },
  {
   "cell_type": "code",
   "execution_count": 10,
   "metadata": {},
   "outputs": [
    {
     "name": "stdout",
     "output_type": "stream",
     "text": [
      "before calling addOne, i: 20\n",
      "\t in Function, global variable: 20\n",
      "after calling addOne, i: 20\n"
     ]
    }
   ],
   "source": [
    "i = 20 # global variable\n",
    "print(f'before calling addOne, i: {i}')\n",
    "addOne()\n",
    "print(f'after calling addOne, i: {i}')"
   ]
  },
  {
   "cell_type": "code",
   "execution_count": 14,
   "metadata": {},
   "outputs": [],
   "source": [
    "def greet(name, message = \"Hello~~\"):\n",
    "    print(name, message)"
   ]
  },
  {
   "cell_type": "code",
   "execution_count": 15,
   "metadata": {},
   "outputs": [
    {
     "name": "stdout",
     "output_type": "stream",
     "text": [
      "Juno Hello\n",
      "Juno Hello~~\n"
     ]
    }
   ],
   "source": [
    "greet(\"Juno\", \"Hello\")\n",
    "greet(\"Juno\")\n",
    "# 함수 arguments의 default value를 할당하면, 함수 호춠 시 argument를 전달하지 않아도 default value가 사용됨."
   ]
  },
  {
   "cell_type": "markdown",
   "metadata": {},
   "source": [
    "- 기본 인자가 가변 객체인 경우, 기본값은 오직 한 번만 사용\n"
   ]
  },
  {
   "cell_type": "code",
   "execution_count": 18,
   "metadata": {},
   "outputs": [],
   "source": [
    "def default_arg(a, obj=[]):\n",
    "    obj.append(a)\n",
    "    return obj"
   ]
  },
  {
   "cell_type": "code",
   "execution_count": 19,
   "metadata": {},
   "outputs": [
    {
     "data": {
      "text/plain": [
       "[1]"
      ]
     },
     "execution_count": 19,
     "metadata": {},
     "output_type": "execute_result"
    }
   ],
   "source": [
    "default_arg(1)"
   ]
  },
  {
   "cell_type": "code",
   "execution_count": 20,
   "metadata": {},
   "outputs": [
    {
     "data": {
      "text/plain": [
       "[1, 2]"
      ]
     },
     "execution_count": 20,
     "metadata": {},
     "output_type": "execute_result"
    }
   ],
   "source": [
    "default_arg(2)"
   ]
  },
  {
   "cell_type": "markdown",
   "metadata": {},
   "source": [
    "-> 인자의 기본값이 가변 객체인 경우, 첫 함수 호출 시 오직 한 번만 지정\\\n",
    " --- 이후 호출에서 같은 객체가 재사용 됨."
   ]
  },
  {
   "cell_type": "code",
   "execution_count": 22,
   "metadata": {},
   "outputs": [],
   "source": [
    "def default_arg(a, obj=None):\n",
    "    if obj is None:\n",
    "        obj = []\n",
    "    obj.append(a)\n",
    "    return obj"
   ]
  },
  {
   "cell_type": "code",
   "execution_count": 24,
   "metadata": {},
   "outputs": [
    {
     "name": "stdout",
     "output_type": "stream",
     "text": [
      "[1]\n",
      "[2]\n"
     ]
    }
   ],
   "source": [
    "print(default_arg(1))\n",
    "print(default_arg(2))"
   ]
  },
  {
   "cell_type": "code",
   "execution_count": 27,
   "metadata": {},
   "outputs": [],
   "source": [
    "def f(java, *, python):\n",
    "    print(f'java = {java}, python = {python}')"
   ]
  },
  {
   "cell_type": "code",
   "execution_count": 29,
   "metadata": {},
   "outputs": [
    {
     "name": "stdout",
     "output_type": "stream",
     "text": [
      "java = 1995, python = 1991\n"
     ]
    }
   ],
   "source": [
    "f(1995, python =1991)"
   ]
  },
  {
   "cell_type": "code",
   "execution_count": 30,
   "metadata": {},
   "outputs": [
    {
     "name": "stdout",
     "output_type": "stream",
     "text": [
      "\n",
      " 상품 목록:  ['우유', '과자', '물']\n",
      "가격 목록:  [2500, 3400, 1800]\n",
      "총 금액:  7700 원\n"
     ]
    }
   ],
   "source": [
    "# 6-8\n",
    "\n",
    "# 상품 목록과 각 상품의 가격을 입력받음\n",
    "def get_purchase():\n",
    "    products = input(\"구매한 상품 목록(콤마로 구분): \").split(\", \")\n",
    "    prices = input(\"각 상품의 가격 (콤마로 구분): \").split(\", \")\n",
    "    return products, prices\n",
    "\n",
    "# 여러 정수 형태의 문자열을 변환해 정수의 목록을 반환\n",
    "def convert_int(*args):\n",
    "    lst = []\n",
    "    for i in args:\n",
    "        lst.append(int(i))\n",
    "    return lst\n",
    "\n",
    "# 총 금액 계산\n",
    "def calculate_total(products, prices):\n",
    "    total = sum(prices)\n",
    "    return total\n",
    "\n",
    "# 사용자로부터 상품 목록과 가격을 입력받음\n",
    "products, prices = get_purchase()\n",
    "# 입력된 가격을 정수로 변환하고 언패킹하여 총 금액 계산\n",
    "prices = convert_int(*prices)\n",
    "# 다음 한 줄의 컴프리헨션으로도 가능\n",
    "# prices = [int(price) for price in prices]\n",
    "total_price = calculate_total(products, prices)\n",
    "\n",
    "# 결과 출력\n",
    "print(\"\\n 상품 목록: \", products)\n",
    "print(\"가격 목록: \", prices)\n",
    "print(\"총 금액: \", total_price, \"원\")"
   ]
  }
 ],
 "metadata": {
  "language_info": {
   "name": "python"
  }
 },
 "nbformat": 4,
 "nbformat_minor": 2
}
