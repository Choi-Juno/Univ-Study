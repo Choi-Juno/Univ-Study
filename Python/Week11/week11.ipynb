{
 "cells": [
  {
   "cell_type": "code",
   "execution_count": 1,
   "metadata": {},
   "outputs": [],
   "source": [
    "def pos_kwd_function(pos1, pos2, /, arg, *, kwd1, kwd2):\n",
    "    print(f\"위치 인자: pos1 = {pos1}, pos2 = {pos2}\")\n",
    "    print(f\"일반 인자: arg = {arg}\")\n",
    "    print(f\"키워드 인자: kwd1: {kwd1}, kwd2: {kwd2}\")"
   ]
  },
  {
   "cell_type": "code",
   "execution_count": 2,
   "metadata": {},
   "outputs": [
    {
     "name": "stdout",
     "output_type": "stream",
     "text": [
      "위치 인자: pos1 = 1, pos2 = 2\n",
      "일반 인자: arg = 3\n",
      "키워드 인자: kwd1: 4, kwd2: 5\n"
     ]
    }
   ],
   "source": [
    "pos_kwd_function(1, 2, 3, kwd1 = 4, kwd2 = 5)"
   ]
  },
  {
   "cell_type": "code",
   "execution_count": 5,
   "metadata": {},
   "outputs": [
    {
     "name": "stdout",
     "output_type": "stream",
     "text": [
      "위치 인자: pos1 = 1, pos2 = 2\n",
      "일반 인자: arg = 3\n",
      "키워드 인자: kwd1: 4, kwd2: 5\n"
     ]
    }
   ],
   "source": [
    "pos_kwd_function(1, 2, arg = 3, kwd1 = 4, kwd2 = 5)"
   ]
  },
  {
   "cell_type": "markdown",
   "metadata": {},
   "source": [
    "### 기호 /와 *의 구분\n",
    "- 다음의 인자 방식으로 값을 전달\n",
    "    - 특수 매개변수 / 앞에 오는 인자는"
   ]
  },
  {
   "cell_type": "code",
   "execution_count": 6,
   "metadata": {},
   "outputs": [
    {
     "data": {
      "text/plain": [
       "['/Users/junochoi/Documents/University/.venv/lib/python3.13/site-packages']"
      ]
     },
     "execution_count": 6,
     "metadata": {},
     "output_type": "execute_result"
    }
   ],
   "source": [
    "import site\n",
    "site.getsitepackages()"
   ]
  }
 ],
 "metadata": {
  "language_info": {
   "name": "python"
  }
 },
 "nbformat": 4,
 "nbformat_minor": 2
}
