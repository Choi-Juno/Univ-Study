{
 "cells": [
  {
   "cell_type": "code",
   "execution_count": 18,
   "metadata": {},
   "outputs": [
    {
     "name": "stdout",
     "output_type": "stream",
     "text": [
      "Hello, Python!\n",
      "Java 1995 C# 2000\n",
      "100 Kg\t20 cm\n",
      "<class 'int'> <class 'float'>\n",
      "<class 'str'> <class 'bool'>\n"
     ]
    }
   ],
   "source": [
    "print('Hello, Python!')\n",
    "print(\"Java 1995 C# 2000\")\n",
    "print(\"100 Kg\" + \"\\t20 cm\")\n",
    "print(type(1), type(1.3))\n",
    "print(type(\"Hello\"), bool)\n"
   ]
  },
  {
   "cell_type": "code",
   "execution_count": null,
   "metadata": {},
   "outputs": [],
   "source": []
  }
 ],
 "metadata": {
  "language_info": {
   "name": "python"
  }
 },
 "nbformat": 4,
 "nbformat_minor": 2
}
